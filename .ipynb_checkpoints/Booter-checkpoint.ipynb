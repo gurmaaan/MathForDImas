{
 "cells": [
  {
   "cell_type": "markdown",
   "metadata": {},
   "source": [
    "# Задание\n",
    "\n",
    "Решить задачу Коши: \n",
    "\\begin{cases}\n",
    "y' = x^3 +y, \n",
    "\\\\\n",
    "y(1) = 0\n",
    "\\\\\n",
    "x \\in [1,2]\n",
    "\\end{cases}\n",
    "\n",
    "Методами: \n",
    "1. Эйлера\n",
    "2. Рунге-Кутта четвертого порядка\n",
    "3. Адамса"
   ]
  },
  {
   "cell_type": "markdown",
   "metadata": {},
   "source": [
    "# Решение"
   ]
  },
  {
   "cell_type": "markdown",
   "metadata": {},
   "source": [
    "## Импорт необходимых библиотек "
   ]
  },
  {
   "cell_type": "code",
   "execution_count": 35,
   "metadata": {},
   "outputs": [],
   "source": [
    "import numpy as np\n",
    "from matplotlib import pyplot as plt\n",
    "from collections import defaultdict\n",
    "import pandas as pd"
   ]
  },
  {
   "cell_type": "markdown",
   "metadata": {},
   "source": [
    "## Начальные условия и необходимые функции "
   ]
  },
  {
   "cell_type": "code",
   "execution_count": 36,
   "metadata": {},
   "outputs": [],
   "source": [
    "def f(x, y):\n",
    "    return x**3 + y"
   ]
  },
  {
   "cell_type": "code",
   "execution_count": 1,
   "metadata": {},
   "outputs": [],
   "source": [
    "# x c [1; 2]\n",
    "x0 = 1\n",
    "b = 2\n",
    "# y(1) = 0\n",
    "y0 = 0 "
   ]
  },
  {
   "cell_type": "code",
   "execution_count": 2,
   "metadata": {},
   "outputs": [
    {
     "data": {
      "text/plain": [
       "0.1"
      ]
     },
     "execution_count": 2,
     "metadata": {},
     "output_type": "execute_result"
    }
   ],
   "source": [
    "h = (b - x0) / 10\n",
    "h"
   ]
  },
  {
   "cell_type": "markdown",
   "metadata": {},
   "source": [
    "## 1. Метод Эйлера"
   ]
  },
  {
   "cell_type": "code",
   "execution_count": 39,
   "metadata": {},
   "outputs": [],
   "source": [
    "data = defaultdict(list)"
   ]
  },
  {
   "cell_type": "code",
   "execution_count": 40,
   "metadata": {},
   "outputs": [],
   "source": [
    "x = 1\n",
    "while x <= 2 + h:\n",
    "    data[\"x\"].append(x)\n",
    "    data[\"y\"].append(y)\n",
    "    data[\"f\"].append(f(x, y))\n",
    "    data[\"hf\"].append(h * f(x,y))\n",
    "    y = y + h * f(x, y)\n",
    "    x = x + h"
   ]
  },
  {
   "cell_type": "code",
   "execution_count": 41,
   "metadata": {},
   "outputs": [
    {
     "data": {
      "text/html": [
       "<div>\n",
       "<style scoped>\n",
       "    .dataframe tbody tr th:only-of-type {\n",
       "        vertical-align: middle;\n",
       "    }\n",
       "\n",
       "    .dataframe tbody tr th {\n",
       "        vertical-align: top;\n",
       "    }\n",
       "\n",
       "    .dataframe thead th {\n",
       "        text-align: right;\n",
       "    }\n",
       "</style>\n",
       "<table border=\"1\" class=\"dataframe\">\n",
       "  <thead>\n",
       "    <tr style=\"text-align: right;\">\n",
       "      <th></th>\n",
       "      <th>x</th>\n",
       "      <th>y</th>\n",
       "      <th>f</th>\n",
       "      <th>hf</th>\n",
       "    </tr>\n",
       "  </thead>\n",
       "  <tbody>\n",
       "    <tr>\n",
       "      <td>0</td>\n",
       "      <td>1.0</td>\n",
       "      <td>0.000000</td>\n",
       "      <td>1.000000</td>\n",
       "      <td>0.100000</td>\n",
       "    </tr>\n",
       "    <tr>\n",
       "      <td>1</td>\n",
       "      <td>1.1</td>\n",
       "      <td>0.100000</td>\n",
       "      <td>1.431000</td>\n",
       "      <td>0.143100</td>\n",
       "    </tr>\n",
       "    <tr>\n",
       "      <td>2</td>\n",
       "      <td>1.2</td>\n",
       "      <td>0.243100</td>\n",
       "      <td>1.971100</td>\n",
       "      <td>0.197110</td>\n",
       "    </tr>\n",
       "    <tr>\n",
       "      <td>3</td>\n",
       "      <td>1.3</td>\n",
       "      <td>0.440210</td>\n",
       "      <td>2.637210</td>\n",
       "      <td>0.263721</td>\n",
       "    </tr>\n",
       "    <tr>\n",
       "      <td>4</td>\n",
       "      <td>1.4</td>\n",
       "      <td>0.703931</td>\n",
       "      <td>3.447931</td>\n",
       "      <td>0.344793</td>\n",
       "    </tr>\n",
       "    <tr>\n",
       "      <td>5</td>\n",
       "      <td>1.5</td>\n",
       "      <td>1.048724</td>\n",
       "      <td>4.423724</td>\n",
       "      <td>0.442372</td>\n",
       "    </tr>\n",
       "    <tr>\n",
       "      <td>6</td>\n",
       "      <td>1.6</td>\n",
       "      <td>1.491097</td>\n",
       "      <td>5.587097</td>\n",
       "      <td>0.558710</td>\n",
       "    </tr>\n",
       "    <tr>\n",
       "      <td>7</td>\n",
       "      <td>1.7</td>\n",
       "      <td>2.049806</td>\n",
       "      <td>6.962806</td>\n",
       "      <td>0.696281</td>\n",
       "    </tr>\n",
       "    <tr>\n",
       "      <td>8</td>\n",
       "      <td>1.8</td>\n",
       "      <td>2.746087</td>\n",
       "      <td>8.578087</td>\n",
       "      <td>0.857809</td>\n",
       "    </tr>\n",
       "    <tr>\n",
       "      <td>9</td>\n",
       "      <td>1.9</td>\n",
       "      <td>3.603895</td>\n",
       "      <td>10.462895</td>\n",
       "      <td>1.046290</td>\n",
       "    </tr>\n",
       "    <tr>\n",
       "      <td>10</td>\n",
       "      <td>2.0</td>\n",
       "      <td>4.650185</td>\n",
       "      <td>12.650185</td>\n",
       "      <td>1.265019</td>\n",
       "    </tr>\n",
       "  </tbody>\n",
       "</table>\n",
       "</div>"
      ],
      "text/plain": [
       "      x         y          f        hf\n",
       "0   1.0  0.000000   1.000000  0.100000\n",
       "1   1.1  0.100000   1.431000  0.143100\n",
       "2   1.2  0.243100   1.971100  0.197110\n",
       "3   1.3  0.440210   2.637210  0.263721\n",
       "4   1.4  0.703931   3.447931  0.344793\n",
       "5   1.5  1.048724   4.423724  0.442372\n",
       "6   1.6  1.491097   5.587097  0.558710\n",
       "7   1.7  2.049806   6.962806  0.696281\n",
       "8   1.8  2.746087   8.578087  0.857809\n",
       "9   1.9  3.603895  10.462895  1.046290\n",
       "10  2.0  4.650185  12.650185  1.265019"
      ]
     },
     "execution_count": 41,
     "metadata": {},
     "output_type": "execute_result"
    }
   ],
   "source": [
    "pd.DataFrame(data)"
   ]
  },
  {
   "cell_type": "code",
   "execution_count": null,
   "metadata": {},
   "outputs": [],
   "source": []
  },
  {
   "cell_type": "markdown",
   "metadata": {},
   "source": [
    "## 2. Метод Рунге-Кутта четвертого порядка"
   ]
  },
  {
   "cell_type": "code",
   "execution_count": null,
   "metadata": {},
   "outputs": [],
   "source": []
  },
  {
   "cell_type": "markdown",
   "metadata": {},
   "source": [
    "## 3. Метод Адамса"
   ]
  },
  {
   "cell_type": "code",
   "execution_count": null,
   "metadata": {},
   "outputs": [],
   "source": []
  }
 ],
 "metadata": {
  "kernelspec": {
   "display_name": "Python 3",
   "language": "python",
   "name": "python3"
  },
  "language_info": {
   "codemirror_mode": {
    "name": "ipython",
    "version": 3
   },
   "file_extension": ".py",
   "mimetype": "text/x-python",
   "name": "python",
   "nbconvert_exporter": "python",
   "pygments_lexer": "ipython3",
   "version": "3.7.1"
  }
 },
 "nbformat": 4,
 "nbformat_minor": 2
}
