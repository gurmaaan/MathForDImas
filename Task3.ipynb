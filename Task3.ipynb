{
 "cells": [
  {
   "cell_type": "markdown",
   "metadata": {},
   "source": [
    "# Задача 1\n",
    "\n",
    "Найти точку минимума и минимум функции $f(x)=-e^{−x} lnx + a∙x$ на интервале [0,5; 2,5] с точностью ε=0,1; 0,01; 0,001 в зависимости от параметра $\\alpha$. \n",
    "\n",
    "Применить для решения задачи все рассмотренные методы минимизации функции.\n",
    "\n",
    "## Вариант 3\n",
    "$\\alpha$ = 0.02"
   ]
  },
  {
   "cell_type": "code",
   "execution_count": null,
   "metadata": {},
   "outputs": [],
   "source": [
    "import math\n",
    "import numpy as np"
   ]
  },
  {
   "cell_type": "code",
   "execution_count": null,
   "metadata": {},
   "outputs": [],
   "source": [
    "x1 = 0.5\n",
    "x2 = 2.5\n",
    "A = 0.02\n",
    "e = 0.1"
   ]
  },
  {
   "cell_type": "code",
   "execution_count": null,
   "metadata": {},
   "outputs": [],
   "source": [
    "def f(x):\n",
    "    return -1*math.exp(-1*x) * math.log(x) + A * x"
   ]
  },
  {
   "cell_type": "markdown",
   "metadata": {},
   "source": [
    "**Метод перебора**"
   ]
  },
  {
   "cell_type": "code",
   "execution_count": 4,
   "metadata": {},
   "outputs": [
    {
     "name": "stdout",
     "output_type": "stream",
     "text": [
      "f( 0.500) =  0.4304\n",
      "f( 0.600) =  0.2923\n",
      "f( 0.700) =  0.1911\n",
      "f( 0.800) =  0.1163\n",
      "f( 0.900) =  0.0608\n",
      "f( 1.000) =  0.0200\n",
      "f( 1.100) = -0.0097\n",
      "f( 1.200) = -0.0309\n",
      "f( 1.300) = -0.0455\n",
      "f( 1.400) = -0.0550\n",
      "f( 1.500) = -0.0605\n",
      "f( 1.600) = -0.0629\n",
      "f( 1.700) = -0.0629\n",
      "f( 1.800) = -0.0612\n",
      "f( 1.900) = -0.0580\n",
      "f( 2.000) = -0.0538\n",
      "f( 2.100) = -0.0489\n",
      "f( 2.200) = -0.0434\n",
      "f( 2.300) = -0.0375\n",
      "f( 2.400) = -0.0314\n",
      "\n",
      "min: f( 1.700 ) = -0.0629\n"
     ]
    }
   ],
   "source": [
    "n = (x2 - x1) / e\n",
    "X = np.arange(x1, x2, e)\n",
    "Y = np.zeros(len(X))\n",
    "y_min = f(x1)\n",
    "x_min = x1\n",
    "\n",
    "for i in range( int(n) ):\n",
    "    Y[i] = f(X[i])\n",
    "    print(f\"f({X[i] : .3f}) = {Y[i] : .4f}\")\n",
    "    if Y[i] < y_min:\n",
    "        y_min = Y[i]\n",
    "        x_min = X[i]\n",
    "\n",
    "print()\n",
    "print(f\"min: f({x_min : .3f} ) = {y_min : .4f}\")"
   ]
  },
  {
   "cell_type": "markdown",
   "metadata": {},
   "source": [
    "**Метод дихотомии**"
   ]
  },
  {
   "cell_type": "code",
   "execution_count": 5,
   "metadata": {},
   "outputs": [
    {
     "name": "stdout",
     "output_type": "stream",
     "text": [
      "a = 1.510 | b = 2.500 | x1 = 1.490 | x2 = 1.510 | f(x1) = -0.0601 | f(x2) = -0.0608\n",
      "a = 1.636 | b = 1.742 | x1 = 1.616 | x2 = 1.636 | f(x1) = -0.0630 | f(x2) = -0.0632\n",
      "\n",
      "min: f( 1.689 ) = -0.0630\n"
     ]
    }
   ],
   "source": [
    "d = 0.02\n",
    "a = x1\n",
    "b = x2\n",
    "\n",
    "while e < (b - a)/2 :\n",
    "    x1 = (b + a - d) / 2;\n",
    "    x2 = (b + a + d) / 2;\n",
    "\n",
    "    if (f(x1) < f(x2)):\n",
    "        b = x1;\n",
    "    else:\n",
    "        a = x2\n",
    "        print(f'a = {a :0.3f} | b = {b :0.3f} | x1 = {x1 :0.3f} | x2 = {x2 :0.3f} | f(x1) = {f(x1) :0.4f} | f(x2) = {f(x2) :0.4f}')\n",
    "        \n",
    "x_min = (a + b ) / 2\n",
    "y_min = f(x_min)\n",
    "\n",
    "print()\n",
    "print(f\"min: f( {x_min :0.3f} ) = {y_min :0.4f}\")"
   ]
  },
  {
   "cell_type": "markdown",
   "metadata": {},
   "source": [
    "**Метод средней точки**"
   ]
  },
  {
   "cell_type": "code",
   "execution_count": 6,
   "metadata": {},
   "outputs": [
    {
     "name": "stdout",
     "output_type": "stream",
     "text": [
      "a = 1.616 | b = 1.636 | x_ср = 1.626 | f'(x_ср) = -0.0053 | Условие точности выполнено \n",
      "min: f( 1.626 ) = -0.0631\n"
     ]
    }
   ],
   "source": [
    "e = 0.01\n",
    "a = x1\n",
    "b = x2\n",
    "x_min = (a+b) / 2\n",
    "\n",
    "def df(x):\n",
    "    return math.exp(-1*x) * math.log(x) - (math.exp(-1*x)/x) +A\n",
    "\n",
    "while e < abs( df(x_min) ):\n",
    "    if df(x_min) > 0:\n",
    "        print(f\"a = {a :0.3f} | b = {b :0.3f} | x_ср = {x_min :0.3f} | f'(x_ср) = {df(x_min) :0.4f} | + \")\n",
    "        b = x_min\n",
    "    else:\n",
    "        print(f\"a = {a :0.3f} | b = {b :0.3f} | x_ср = {x_min :0.3f} | f'(x_ср) = {df(x_min) :0.4f} | - \")\n",
    "        a = x_min\n",
    "    x_min = (a+b) / 2\n",
    "    \n",
    "print(f\"a = {a :0.3f} | b = {b :0.3f} | x_ср = {x_min :0.3f} | f'(x_ср) = {df(x_min) :0.4f} | Условие точности выполнено \")\n",
    "print(f\"min: f( {x_min :0.3f} ) = {f(x_min) :0.4f}\")"
   ]
  },
  {
   "cell_type": "markdown",
   "metadata": {},
   "source": [
    "**Метод Ньютона**"
   ]
  },
  {
   "cell_type": "code",
   "execution_count": 7,
   "metadata": {},
   "outputs": [
    {
     "name": "stdout",
     "output_type": "stream",
     "text": [
      "xk = 0.700 | f'(xk) = -0.8665\n",
      "xk = 1.032 | f'(xk) = -0.3139\n",
      "xk = 1.342 | f'(xk) = -0.0979\n",
      "xk = 1.556 | f'(xk) = -0.0224\n",
      "xk = 1.640 | f'(xk) = -0.00229 | Условие точности выполнено\n",
      "min: f( 1.640 ) = -0.0632\n"
     ]
    }
   ],
   "source": [
    "def ddf(x):\n",
    "    return math.exp(-1*x) * ( -1* math.log(x) + 2/x + 1/x**2)\n",
    "\n",
    "def xk_1(xk):\n",
    "    return xk - df(xk) / ddf(xk)\n",
    "    \n",
    "xk = 0.7\n",
    "while e < abs( df(xk) ):\n",
    "    print(f\"xk = {xk :0.3f} | f'(xk) = {df(xk) :0.4f}\")\n",
    "    xk = xk_1(xk)\n",
    "\n",
    "print(f\"xk = {xk :0.3f} | f'(xk) = {df(xk) :0.5f} | Условие точности выполнено\")\n",
    "print(f\"min: f( {xk :0.3f} ) = {f(xk) :0.4f}\")"
   ]
  }
 ],
 "metadata": {
  "kernelspec": {
   "display_name": "Python 3",
   "language": "python",
   "name": "python3"
  },
  "language_info": {
   "codemirror_mode": {
    "name": "ipython",
    "version": 3
   },
   "file_extension": ".py",
   "mimetype": "text/x-python",
   "name": "python",
   "nbconvert_exporter": "python",
   "pygments_lexer": "ipython3",
   "version": "3.7.4"
  }
 },
 "nbformat": 4,
 "nbformat_minor": 4
}
