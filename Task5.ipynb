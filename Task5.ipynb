{
 "cells": [
  {
   "cell_type": "markdown",
   "metadata": {},
   "source": [
    "# Методы многомерной оптимизации\n",
    "\n",
    "## Метод Ньютона\n",
    "\n",
    "**Задача 2**\n",
    "\n",
    "Минимизировать в Е3 функцию"
   ]
  },
  {
   "cell_type": "markdown",
   "metadata": {},
   "source": [
    "![img](Task5.png)"
   ]
  },
  {
   "cell_type": "markdown",
   "metadata": {},
   "source": [
    "**Вариант 3**"
   ]
  },
  {
   "cell_type": "markdown",
   "metadata": {},
   "source": [
    "![img](Var5.png)"
   ]
  },
  {
   "cell_type": "markdown",
   "metadata": {},
   "source": [
    "## Решение"
   ]
  },
  {
   "cell_type": "markdown",
   "metadata": {},
   "source": [
    "**1. Инициализация**"
   ]
  },
  {
   "cell_type": "code",
   "execution_count": 1,
   "metadata": {},
   "outputs": [],
   "source": [
    "from math import pow, fabs"
   ]
  },
  {
   "cell_type": "markdown",
   "metadata": {},
   "source": [
    "Исходная функция"
   ]
  },
  {
   "cell_type": "code",
   "execution_count": 2,
   "metadata": {},
   "outputs": [],
   "source": [
    "def f(x1, x2, x3):\n",
    "    return pow(x1 + 21 + x2, 4) + pow(x1 + 86 + x3, 2) + pow(x2 + 67 + x3, 4)"
   ]
  },
  {
   "cell_type": "markdown",
   "metadata": {},
   "source": [
    "Начальные значения аргументов"
   ]
  },
  {
   "cell_type": "code",
   "execution_count": 3,
   "metadata": {},
   "outputs": [],
   "source": [
    "X = [-28, -21, -46]"
   ]
  },
  {
   "cell_type": "markdown",
   "metadata": {},
   "source": [
    "Частные производные"
   ]
  },
  {
   "cell_type": "code",
   "execution_count": 4,
   "metadata": {},
   "outputs": [],
   "source": [
    "def dfdx1(X):\n",
    "    return 2 * (2*pow(X[0] + X[1] + 21, 3) + X[0] + X[2] + 86)"
   ]
  },
  {
   "cell_type": "code",
   "execution_count": 5,
   "metadata": {},
   "outputs": [],
   "source": [
    "def dfdx2(X):\n",
    "    return 4*(pow(X[0] + X[1] + 21, 3) + pow(X[1] + X[2] + 67, 3))"
   ]
  },
  {
   "cell_type": "code",
   "execution_count": 6,
   "metadata": {},
   "outputs": [],
   "source": [
    "def dfdx3(X):\n",
    "    return 2*(X[0] + 2*pow(X[1] + X[2] + 67, 3) + X[2] + 86)"
   ]
  },
  {
   "cell_type": "code",
   "execution_count": 7,
   "metadata": {},
   "outputs": [],
   "source": [
    "df = [dfdx1, dfdx2, dfdx3]"
   ]
  },
  {
   "cell_type": "code",
   "execution_count": 8,
   "metadata": {},
   "outputs": [],
   "source": [
    "dF = [dfdx1(X), dfdx2(X), dfdx3(X)]"
   ]
  },
  {
   "cell_type": "markdown",
   "metadata": {},
   "source": [
    "**2.Для метода Ньютона**"
   ]
  },
  {
   "cell_type": "code",
   "execution_count": 9,
   "metadata": {},
   "outputs": [],
   "source": [
    "def fa(a, X, dF):\n",
    "    return pow( X[0] +  X[1] + 49 - ( dF[0]+dF[1] )*a, 4) + \\\n",
    "           pow( X[0] + dF[2] + 78 - ( dF[0]+dF[2] )*a, 2) + \\\n",
    "           pow( X[1] + dF[2] + 67 - ( dF[1]+dF[2] )*a, 4)"
   ]
  },
  {
   "cell_type": "code",
   "execution_count": 10,
   "metadata": {},
   "outputs": [],
   "source": [
    "def dfa(a, X, dF):\n",
    "    return  -4*pow((dF[0]+dF[1]) * ( X[0]+X[1]+49-(dF[0]+dF[1])*a ), 3 ) - \\\n",
    "             2*(dF[0]+dF[2]) * ( X[0]+X[2]+78-(dF[0]+dF[2])*a ) - \\\n",
    "             4*pow((dF[1]+dF[2]) * ( X[1]+X[2]+67-(dF[1]+dF[2])*a ), 3)"
   ]
  },
  {
   "cell_type": "code",
   "execution_count": 11,
   "metadata": {},
   "outputs": [],
   "source": [
    "def ddfa(a, X, dF):\n",
    "    return 12*pow((dF[0]+dF[1])**2 * ( X[0]+X[1]+49-(dF[0]+dF[1])*a ), 2) + \\\n",
    "            2*(dF[0]+dF[2])**2 + \\\n",
    "           12*pow((dF[1]+dF[2])**2 * ( X[1]+X[2]+67-(dF[1]+dF[2])*a ), 2)"
   ]
  },
  {
   "cell_type": "markdown",
   "metadata": {},
   "source": [
    "Скорость на шаге k"
   ]
  },
  {
   "cell_type": "code",
   "execution_count": 12,
   "metadata": {},
   "outputs": [],
   "source": [
    "def ak(a, X, dF):\n",
    "    return a - dfa(a,X,dF)/ddfa(a,X,dF)"
   ]
  },
  {
   "cell_type": "markdown",
   "metadata": {},
   "source": [
    "**3. Условие остановки**\n",
    "\n",
    "`модуль любой из частных производных f на шаге k <= 0.05`\n",
    "\n"
   ]
  },
  {
   "cell_type": "code",
   "execution_count": 13,
   "metadata": {},
   "outputs": [],
   "source": [
    "THRd = 0.05"
   ]
  },
  {
   "cell_type": "code",
   "execution_count": 14,
   "metadata": {},
   "outputs": [],
   "source": [
    "def condition(dF):\n",
    "    for der in dF:\n",
    "        if fabs(der) <= THRd:\n",
    "            return False\n",
    "    return True"
   ]
  },
  {
   "cell_type": "markdown",
   "metadata": {},
   "source": [
    "**4. Поиск минимума локальной функции методом Ньютон**"
   ]
  },
  {
   "cell_type": "markdown",
   "metadata": {},
   "source": [
    "Печать значений текущего шага"
   ]
  },
  {
   "cell_type": "code",
   "execution_count": 15,
   "metadata": {},
   "outputs": [],
   "source": [
    "def printstep(X, dF, a):\n",
    "    print(f\"a = {a}\")\n",
    "    for i in range(3):\n",
    "        print(f\"\\tx{i+1} = {X[i]}, dfdx{i} = {dF[i]}\")\n",
    "    print('-'*80)"
   ]
  },
  {
   "cell_type": "code",
   "execution_count": 16,
   "metadata": {},
   "outputs": [
    {
     "data": {
      "text/plain": [
       "[-87784.0, -87808.0, 24.0]"
      ]
     },
     "execution_count": 16,
     "metadata": {},
     "output_type": "execute_result"
    }
   ],
   "source": [
    "dF = [dfdx1(X), dfdx2(X), dfdx3(X)]\n",
    "dF"
   ]
  },
  {
   "cell_type": "code",
   "execution_count": 17,
   "metadata": {},
   "outputs": [],
   "source": [
    "THRa = 0.01"
   ]
  },
  {
   "cell_type": "code",
   "execution_count": null,
   "metadata": {},
   "outputs": [],
   "source": [
    "while condition(dF):\n",
    "    k = 0\n",
    "    a = 0\n",
    "    while fabs( dfa(a, X, dF) ) > THRa:\n",
    "        a = ak(a, X, dF)\n",
    "        k = k + 1\n",
    "        if k == 5:\n",
    "            break\n",
    "    \n",
    "    for i in range(3):\n",
    "        X[i] = X[i] - a * dF[i]\n",
    "    dF = [dfdx1(X), dfdx2(X), dfdx3(X)]\n",
    "    printstep(X, dF, a)"
   ]
  },
  {
   "cell_type": "raw",
   "metadata": {},
   "source": [
    "a = -9.00322990874127e-06\n",
    "\tx1 = -28.790339534308945, dfdx0 = -103514.18696026063\n",
    "\tx2 = -21.790555611826754, dfdx1 = -103538.58141328044\n",
    "\tx3 = -45.99978392248219, dfdx2 = 20.445053153026606\n",
    "--------------------------------------------------------------------------------\n",
    "a = 6.62976028183522e-06\n",
    "\tx1 = -28.104065288993343, dfdx0 = -89757.41041000008\n",
    "\tx2 = -21.104119637135426, dfdx1 = -89781.20694501902\n",
    "\tx3 = -45.999919468283544, dfdx2 = 23.787525951966956\n",
    "--------------------------------------------------------------------------------\n",
    "a = 1.0068506015234542e-06\n",
    "\tx1 = -28.01369298633085, dfdx0 = -88042.21303857025\n",
    "\tx2 = -21.013723374917333, dfdx1 = -88066.18577597085\n",
    "\tx3 = -45.99994341876836, dfdx2 = 23.972716978998363\n",
    "--------------------------------------------------------------------------------\n",
    "a = 1.3516919448193597e-07\n",
    "\tx1 = -28.00179239131402, dfdx0 = -87817.9889070928\n",
    "\tx2 = -21.0018195395249, dfdx1 = -87841.98542901393\n",
    "\tx3 = -45.9999466591412, dfdx2 = 23.996521877051237\n",
    "--------------------------------------------------------------------------------\n",
    "a = 1.7685057033854333e-08\n",
    "\tx1 = -28.0002393251716, dfdx0 = -87788.75501886437\n",
    "\tx2 = -21.00026604900262, dfdx1 = -87812.75464604702\n",
    "\tx3 = -45.99994708352106, dfdx2 = 23.999627182575978\n",
    "--------------------------------------------------------------------------------\n",
    "a = 1.0662001204335336e-09\n",
    "\tx1 = -28.000145724790425, dfdx0 = -87786.99335440033\n",
    "\tx2 = -21.00017242303304, dfdx1 = -87810.99316873253\n",
    "\tx3 = -45.99994710910946, dfdx2 = 23.99981433219341\n",
    "--------------------------------------------------------------------------------\n",
    "a = -2.417465441279601e-14\n",
    "\tx1 = -28.000145726912645, dfdx0 = -87786.99339434266\n",
    "\tx2 = -21.00017242515584, dfdx1 = -87810.99320867062\n",
    "\tx3 = -45.99994710910888, dfdx2 = 23.999814327950105\n",
    "--------------------------------------------------------------------------------\n",
    "a = 0\n",
    "\tx1 = -28.000145726912645, dfdx0 = -87786.99339434266\n",
    "\tx2 = -21.00017242515584, dfdx1 = -87810.99320867062\n",
    "\tx3 = -45.99994710910888, dfdx2 = 23.999814327950105"
   ]
  }
 ],
 "metadata": {
  "kernelspec": {
   "display_name": "Python 3",
   "language": "python",
   "name": "python3"
  },
  "language_info": {
   "codemirror_mode": {
    "name": "ipython",
    "version": 3
   },
   "file_extension": ".py",
   "mimetype": "text/x-python",
   "name": "python",
   "nbconvert_exporter": "python",
   "pygments_lexer": "ipython3",
   "version": "3.7.4"
  }
 },
 "nbformat": 4,
 "nbformat_minor": 4
}
