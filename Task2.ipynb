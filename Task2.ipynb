{
 "cells": [
  {
   "cell_type": "markdown",
   "metadata": {},
   "source": [
    "# Задание 2\n",
    "\n",
    "Решить ДУ 2-го порядка с указанными граничными условиями _(методом \"стрельбы\")_\n",
    "\n",
    "\n",
    "$$y'' + xy' + y = 2x,  y(0) = 1,  y(1) = 0$$"
   ]
  },
  {
   "cell_type": "markdown",
   "metadata": {},
   "source": [
    "# Решение\n",
    "\n",
    "## Теория\n",
    "Приведем задачу к системе дифференциальных уравнений первого порядка. \n",
    "Для этого введем обозначение `y' = z`. \n",
    "\n",
    "Тогда уравнение перепишется в виде системы уравнений: \n",
    "\\begin{cases}\n",
    "y' = z, \n",
    "\\\\\n",
    "z' = -xz -y +2x\n",
    "\\end{cases}\n",
    "\n",
    "Т.к. определены начальные условия, система 2-х ОДУ 1-го порядка с двумя начальными условиями сводится к задачи Коши. \n",
    "\n",
    "## Реализация\n",
    "Метод прогонки"
   ]
  },
  {
   "cell_type": "code",
   "execution_count": 1,
   "metadata": {},
   "outputs": [],
   "source": [
    "import math"
   ]
  },
  {
   "cell_type": "code",
   "execution_count": 2,
   "metadata": {},
   "outputs": [],
   "source": [
    "x_a = 0\n",
    "x_b = 1\n",
    "y_a = 1\n",
    "y_b = 3;\n",
    "k = 20\n",
    "\n",
    "alpha0 = 1\n",
    "alpha1 = 0\n",
    "betta0  = 1\n",
    "betta1 = 0\n",
    "\n",
    "h = 0.0\n",
    "x, y, p, q, f, m, n, c, d = [0 for _ in range(k+1)], [0 for _ in range(k+1)], [0 for _ in range(k+1)], [0 for _ in range(k+1)], [0 for _ in range(k+1)], [0 for _ in range(k+1)], [0 for _ in range(k+1)], [0 for _ in range(k+1)], [0 for _ in range(k+1)]\n",
    "i = 0"
   ]
  },
  {
   "cell_type": "code",
   "execution_count": 3,
   "metadata": {},
   "outputs": [],
   "source": [
    "x[0] = x_a\n",
    "x[k] = x_b\n",
    "h = (x_b - x_a) / k"
   ]
  },
  {
   "cell_type": "code",
   "execution_count": 6,
   "metadata": {},
   "outputs": [],
   "source": [
    "for i in range(k-1):\n",
    "    x[i+1] = x[i] + h\n",
    "    p[i] = 1 / x[i]\n",
    "    q[i] = -1 / math.pow(x[i], 2)\n",
    "    f[i] = 1\n",
    "    m[i] = -2 + h*p[i]\n",
    "    n[i] = 1 - h*p[i] + q[i]*math.pow(h,2)"
   ]
  },
  {
   "cell_type": "markdown",
   "metadata": {},
   "source": [
    "**Прямой ход**"
   ]
  },
  {
   "cell_type": "code",
   "execution_count": 7,
   "metadata": {},
   "outputs": [],
   "source": [
    "c[0] = (alpha1 - alpha0*h)/(m[0]*(alpha1 - alpha0*h) + n[0]*alpha1)\n",
    "d[0] = n[0]*y_a*h/(alpha1 - alpha0*h)"
   ]
  },
  {
   "cell_type": "code",
   "execution_count": 8,
   "metadata": {},
   "outputs": [],
   "source": [
    "for i in range(1, k-1):\n",
    "    c[i] = 1/(m[i] - n[i]*c[i-1])\n",
    "    d[i] = f[i]*math.pow(h,2) - n[i]*c[i-1]*d[i-1]"
   ]
  },
  {
   "cell_type": "code",
   "execution_count": 9,
   "metadata": {},
   "outputs": [],
   "source": [
    "y[k] = (betta1*c[k-2]*d[k-2] + y_b*h)/(betta1*(1 + c[k-2]) + betta0*h)"
   ]
  },
  {
   "cell_type": "markdown",
   "metadata": {},
   "source": [
    "**Обратный ход**"
   ]
  },
  {
   "cell_type": "code",
   "execution_count": 10,
   "metadata": {},
   "outputs": [],
   "source": [
    "for i in range(1, k-1):\n",
    "    y[k-i] = c[k-i-1]*(d[k-i-1] - y[k-i+1])"
   ]
  },
  {
   "cell_type": "code",
   "execution_count": 11,
   "metadata": {},
   "outputs": [],
   "source": [
    "y[0] = (alpha1*y[1] - y_a*h)/(alpha1 - alpha0*h)"
   ]
  },
  {
   "cell_type": "markdown",
   "metadata": {},
   "source": [
    "**Вывод значений**"
   ]
  },
  {
   "cell_type": "code",
   "execution_count": 13,
   "metadata": {},
   "outputs": [
    {
     "data": {
      "text/html": [
       "<div>\n",
       "<style scoped>\n",
       "    .dataframe tbody tr th:only-of-type {\n",
       "        vertical-align: middle;\n",
       "    }\n",
       "\n",
       "    .dataframe tbody tr th {\n",
       "        vertical-align: top;\n",
       "    }\n",
       "\n",
       "    .dataframe thead th {\n",
       "        text-align: right;\n",
       "    }\n",
       "</style>\n",
       "<table border=\"1\" class=\"dataframe\">\n",
       "  <thead>\n",
       "    <tr style=\"text-align: right;\">\n",
       "      <th></th>\n",
       "      <th>x</th>\n",
       "      <th>y</th>\n",
       "    </tr>\n",
       "  </thead>\n",
       "  <tbody>\n",
       "    <tr>\n",
       "      <td>0</td>\n",
       "      <td>0.05</td>\n",
       "      <td>1.000000</td>\n",
       "    </tr>\n",
       "    <tr>\n",
       "      <td>1</td>\n",
       "      <td>0.10</td>\n",
       "      <td>0.000000</td>\n",
       "    </tr>\n",
       "    <tr>\n",
       "      <td>2</td>\n",
       "      <td>0.15</td>\n",
       "      <td>0.067206</td>\n",
       "    </tr>\n",
       "    <tr>\n",
       "      <td>3</td>\n",
       "      <td>0.20</td>\n",
       "      <td>0.336507</td>\n",
       "    </tr>\n",
       "    <tr>\n",
       "      <td>4</td>\n",
       "      <td>0.25</td>\n",
       "      <td>0.526009</td>\n",
       "    </tr>\n",
       "    <tr>\n",
       "      <td>5</td>\n",
       "      <td>0.30</td>\n",
       "      <td>0.691666</td>\n",
       "    </tr>\n",
       "    <tr>\n",
       "      <td>6</td>\n",
       "      <td>0.35</td>\n",
       "      <td>0.847733</td>\n",
       "    </tr>\n",
       "    <tr>\n",
       "      <td>7</td>\n",
       "      <td>0.40</td>\n",
       "      <td>0.999502</td>\n",
       "    </tr>\n",
       "    <tr>\n",
       "      <td>8</td>\n",
       "      <td>0.45</td>\n",
       "      <td>1.149390</td>\n",
       "    </tr>\n",
       "    <tr>\n",
       "      <td>9</td>\n",
       "      <td>0.50</td>\n",
       "      <td>1.298659</td>\n",
       "    </tr>\n",
       "    <tr>\n",
       "      <td>10</td>\n",
       "      <td>0.55</td>\n",
       "      <td>1.448032</td>\n",
       "    </tr>\n",
       "    <tr>\n",
       "      <td>11</td>\n",
       "      <td>0.60</td>\n",
       "      <td>1.597955</td>\n",
       "    </tr>\n",
       "    <tr>\n",
       "      <td>12</td>\n",
       "      <td>0.65</td>\n",
       "      <td>1.748716</td>\n",
       "    </tr>\n",
       "    <tr>\n",
       "      <td>13</td>\n",
       "      <td>0.70</td>\n",
       "      <td>1.900510</td>\n",
       "    </tr>\n",
       "    <tr>\n",
       "      <td>14</td>\n",
       "      <td>0.75</td>\n",
       "      <td>2.053476</td>\n",
       "    </tr>\n",
       "    <tr>\n",
       "      <td>15</td>\n",
       "      <td>0.80</td>\n",
       "      <td>2.207711</td>\n",
       "    </tr>\n",
       "    <tr>\n",
       "      <td>16</td>\n",
       "      <td>0.85</td>\n",
       "      <td>2.363291</td>\n",
       "    </tr>\n",
       "    <tr>\n",
       "      <td>17</td>\n",
       "      <td>0.90</td>\n",
       "      <td>2.520271</td>\n",
       "    </tr>\n",
       "    <tr>\n",
       "      <td>18</td>\n",
       "      <td>0.95</td>\n",
       "      <td>2.678694</td>\n",
       "    </tr>\n",
       "    <tr>\n",
       "      <td>19</td>\n",
       "      <td>1.00</td>\n",
       "      <td>2.838595</td>\n",
       "    </tr>\n",
       "    <tr>\n",
       "      <td>20</td>\n",
       "      <td>1.00</td>\n",
       "      <td>3.000000</td>\n",
       "    </tr>\n",
       "  </tbody>\n",
       "</table>\n",
       "</div>"
      ],
      "text/plain": [
       "       x         y\n",
       "0   0.05  1.000000\n",
       "1   0.10  0.000000\n",
       "2   0.15  0.067206\n",
       "3   0.20  0.336507\n",
       "4   0.25  0.526009\n",
       "5   0.30  0.691666\n",
       "6   0.35  0.847733\n",
       "7   0.40  0.999502\n",
       "8   0.45  1.149390\n",
       "9   0.50  1.298659\n",
       "10  0.55  1.448032\n",
       "11  0.60  1.597955\n",
       "12  0.65  1.748716\n",
       "13  0.70  1.900510\n",
       "14  0.75  2.053476\n",
       "15  0.80  2.207711\n",
       "16  0.85  2.363291\n",
       "17  0.90  2.520271\n",
       "18  0.95  2.678694\n",
       "19  1.00  2.838595\n",
       "20  1.00  3.000000"
      ]
     },
     "execution_count": 13,
     "metadata": {},
     "output_type": "execute_result"
    }
   ],
   "source": [
    "import pandas as pd\n",
    "\n",
    "pd.DataFrame({ \"x\": x, \"y\":y})"
   ]
  },
  {
   "cell_type": "code",
   "execution_count": null,
   "metadata": {},
   "outputs": [],
   "source": []
  }
 ],
 "metadata": {
  "kernelspec": {
   "display_name": "Python 3",
   "language": "python",
   "name": "python3"
  },
  "language_info": {
   "codemirror_mode": {
    "name": "ipython",
    "version": 3
   },
   "file_extension": ".py",
   "mimetype": "text/x-python",
   "name": "python",
   "nbconvert_exporter": "python",
   "pygments_lexer": "ipython3",
   "version": "3.7.4"
  }
 },
 "nbformat": 4,
 "nbformat_minor": 4
}
