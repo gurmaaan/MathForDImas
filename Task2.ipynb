{
 "cells": [
  {
   "cell_type": "markdown",
   "metadata": {},
   "source": [
    "# Задание 2\n",
    "\n",
    "Решить ДУ 2-го порядка с указанными граничными условиями _(методом \"стрельбы\")_\n",
    "\n",
    "\n",
    "$$y'' + xy' + y = 2x,  y(0) = 1,  y(1) = 0$$"
   ]
  },
  {
   "cell_type": "markdown",
   "metadata": {},
   "source": [
    "# Решение\n",
    "\n",
    "## Теория\n",
    "Приведем задачу к системе дифференциальных уравнений первого порядка. \n",
    "Для этого введем обозначение `y' = z`. \n",
    "\n",
    "Тогда уравнение перепишется в виде системы уравнений: \n",
    "\\begin{cases}\n",
    "y' = z, \n",
    "\\\\\n",
    "z' = -xz -y +2x\n",
    "\\end{cases}"
   ]
  },
  {
   "cell_type": "markdown",
   "metadata": {},
   "source": [
    "В случае, если будут определены начальные условия, система 2-х ОДУ 1-го порядка с двумя начальными условиями будет являться задачей Коши. \n",
    "\n",
    "Одно начальное условие для системы уравнений задано в исходной постановке уравнением `y(0) = 1`\n",
    "\n",
    "Для разрешимости необходимо второе условие, соответствующее функции z(x) в координате x = 0"
   ]
  },
  {
   "cell_type": "markdown",
   "metadata": {},
   "source": [
    "**Метод стрельбы** – это переход от решения исходной краевой задачи к решению некоторой задачи Коши для системы двух дифференциальных уравнений первого порядка. \n",
    "\n",
    "Для этого выберем произвольное значение z(0) = m. \n",
    "\n",
    "Тогда будет вычислено второе граничное условие y(1), которое зависит от m. \n",
    "\n",
    "Параметр m перебирается до тех пор, пока граничное условие y(1) не совпадет с условием задачи с заданной точностью "
   ]
  },
  {
   "cell_type": "code",
   "execution_count": 3,
   "metadata": {},
   "outputs": [],
   "source": [
    "x_0 = 0\n",
    "y_0 = 1"
   ]
  },
  {
   "cell_type": "code",
   "execution_count": 4,
   "metadata": {},
   "outputs": [],
   "source": [
    "def p(x):\n",
    "    return x"
   ]
  },
  {
   "cell_type": "code",
   "execution_count": 5,
   "metadata": {},
   "outputs": [],
   "source": [
    "def q(x):\n",
    "    return 1"
   ]
  },
  {
   "cell_type": "code",
   "execution_count": 6,
   "metadata": {},
   "outputs": [],
   "source": [
    "def f(x):\n",
    "    return -2 * x"
   ]
  },
  {
   "cell_type": "code",
   "execution_count": null,
   "metadata": {},
   "outputs": [],
   "source": []
  }
 ],
 "metadata": {
  "kernelspec": {
   "display_name": "Python 3",
   "language": "python",
   "name": "python3"
  },
  "language_info": {
   "codemirror_mode": {
    "name": "ipython",
    "version": 3
   },
   "file_extension": ".py",
   "mimetype": "text/x-python",
   "name": "python",
   "nbconvert_exporter": "python",
   "pygments_lexer": "ipython3",
   "version": "3.7.4"
  }
 },
 "nbformat": 4,
 "nbformat_minor": 4
}
